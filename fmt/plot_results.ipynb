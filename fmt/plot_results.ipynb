{
 "cells": [
  {
   "cell_type": "code",
   "execution_count": null,
   "metadata": {},
   "outputs": [],
   "source": [
    "import math\n",
    "import numpy as np\n",
    "import matplotlib\n",
    "import matplotlib.pyplot as plt\n",
    "import seaborn as sns\n",
    "%matplotlib inline\n",
    "\n",
    "plot_size_1D = (14,6)\n",
    "plot_size_2D = (12,10)\n",
    "\n",
    "np.set_printoptions(formatter={'float': '{: 0.5f}'.format}, suppress = True)\n",
    "matplotlib.rcParams.update({'font.size': 10})\n",
    "plt.style.use('seaborn-whitegrid')"
   ]
  },
  {
   "cell_type": "code",
   "execution_count": null,
   "metadata": {},
   "outputs": [],
   "source": [
    "%matplotlib inline\n",
    "matplotlib.rcParams.update({'font.size': 10})"
   ]
  },
  {
   "cell_type": "code",
   "execution_count": null,
   "metadata": {},
   "outputs": [],
   "source": [
    "# 1D plots (dZ and rZ alignment).\n",
    "def scatterplot(x, y, e, title, xlabel, ylabel):\n",
    "    fig, ax = plt.subplots()\n",
    "\n",
    "    # plotting\n",
    "    ymin = np.amin(y)\n",
    "    ymax = np.amax(y)\n",
    "    yran = ymax-ymin\n",
    "    plt.ylim(ymin - yran/10, ymax + yran/10)\n",
    "    plt.errorbar(x, y, yerr=e, fmt='o', color=\"#e6194b\")\n",
    "\n",
    "    # Additional setup.\n",
    "    fig.set_size_inches(plot_size_1D)\n",
    "    plt.title(title)\n",
    "    plt.xlabel(xlabel)\n",
    "    plt.ylabel(ylabel)\n",
    "    plt.tight_layout\n",
    "\n",
    "    return\n",
    "\n",
    "# 2D plots (dXY and rXY alignment).\n",
    "def heatmap(title, xlab, ylab, clab, x, y, sigma):\n",
    "    fig, ax = plt.subplots()\n",
    "    ax = sns.heatmap(sigma, cbar_kws={\"label\": clab})\n",
    "\n",
    "    # Plotting.\n",
    "    ax.set_xticks(np.arange(len(x))+0.5)\n",
    "    ax.set_yticks(np.arange(len(y))+0.5)\n",
    "    ax.set_xticklabels(x, ha=\"center\")\n",
    "    ax.set_yticklabels(y, va=\"center\")\n",
    "    ax.invert_yaxis()\n",
    "\n",
    "    # Additional setup.\n",
    "    fig.set_size_inches(plot_size_2D)\n",
    "    plt.title(title)\n",
    "    plt.xlabel(xlab)\n",
    "    plt.ylabel(ylab)\n",
    "    plt.tight_layout\n",
    "\n",
    "    plt.show()\n",
    "\n",
    "    return"
   ]
  },
  {
   "cell_type": "markdown",
   "metadata": {},
   "source": [
    "# dXY alignment"
   ]
  },
  {
   "cell_type": "code",
   "execution_count": null,
   "metadata": {},
   "outputs": [],
   "source": [
    "# Copy out.txt here."
   ]
  },
  {
   "cell_type": "code",
   "execution_count": null,
   "metadata": {},
   "outputs": [],
   "source": [
    "# Do not edit this block, only execute it.\n",
    "mean1  = np.matrix(lyr1_mean).transpose()\n",
    "amean1 = np.abs(mean1)\n",
    "nmean1 = (amean1-np.min(amean1))/(np.max(amean1)-np.min(amean1))\n",
    "\n",
    "mean2  = np.matrix(lyr2_mean).transpose()\n",
    "amean2 = np.abs(mean2)\n",
    "nmean2 = (amean2-np.min(amean2))/(np.max(amean2)-np.min(amean2))\n",
    "\n",
    "mean3  = np.matrix(lyr3_mean).transpose()\n",
    "amean3 = np.abs(mean3)\n",
    "nmean3 = (amean3-np.min(amean3))/(np.max(amean3)-np.min(amean3))\n",
    "\n",
    "heatmap(\"FMT\", \"x shift (cm)\", \"y shift (cm)\", \"Residuals fit average normalized mean\",\n",
    "        shifts, shifts, (nmean1+nmean2+nmean3)/3)"
   ]
  },
  {
   "cell_type": "markdown",
   "metadata": {},
   "source": [
    "# dZ Alignment"
   ]
  },
  {
   "cell_type": "code",
   "execution_count": null,
   "metadata": {},
   "outputs": [],
   "source": [
    "# Copy out.txt here."
   ]
  },
  {
   "cell_type": "code",
   "execution_count": null,
   "metadata": {},
   "outputs": [],
   "source": [
    "# Do not edit this block, only execute it.\n",
    "xlabel = \"z shift (cm)\"\n",
    "ylabel = \"Residuals fit $\\sigma$ (cm)\"\n",
    "\n",
    "scatterplot(shifts, lyr1_sigma.transpose()[0], lyr1_sigmaerr.transpose()[0], \"Layer 1\", xlabel, ylabel)\n",
    "scatterplot(shifts, lyr2_sigma.transpose()[0], lyr2_sigmaerr.transpose()[0], \"Layer 2\", xlabel, ylabel)\n",
    "scatterplot(shifts, lyr3_sigma.transpose()[0], lyr3_sigmaerr.transpose()[0], \"Layer 3\", xlabel, ylabel)"
   ]
  },
  {
   "cell_type": "markdown",
   "metadata": {},
   "source": [
    "# rZ Alignment"
   ]
  },
  {
   "cell_type": "code",
   "execution_count": null,
   "metadata": {},
   "outputs": [],
   "source": [
    "# Copy out.txt here."
   ]
  },
  {
   "cell_type": "code",
   "execution_count": null,
   "metadata": {
    "scrolled": false
   },
   "outputs": [],
   "source": [
    "# Do not edit this block, only execute it.\n",
    "xlabel = \"z rotation (deg)\"\n",
    "ylabel = \"Residuals fit $\\sigma$ (cm)\"\n",
    "\n",
    "scatterplot(shifts, lyr1_sigma.transpose()[0], lyr1_sigmaerr.transpose()[0], \"Layer 1\", xlabel, ylabel)\n",
    "scatterplot(shifts, lyr2_sigma.transpose()[0], lyr2_sigmaerr.transpose()[0], \"Layer 2\", xlabel, ylabel)\n",
    "scatterplot(shifts, lyr3_sigma.transpose()[0], lyr3_sigmaerr.transpose()[0], \"Layer 3\", xlabel, ylabel)"
   ]
  },
  {
   "cell_type": "markdown",
   "metadata": {},
   "source": [
    "# rXY alignment"
   ]
  },
  {
   "cell_type": "code",
   "execution_count": null,
   "metadata": {},
   "outputs": [],
   "source": [
    "# Copy out.txt here."
   ]
  },
  {
   "cell_type": "code",
   "execution_count": null,
   "metadata": {},
   "outputs": [],
   "source": [
    "# Do not edit this block, only execute it.\n",
    "mean1  = np.matrix(lyr1_mean).transpose()\n",
    "amean1 = np.abs(mean1)\n",
    "nmean1 = (amean1-np.min(amean1))/(np.max(amean1)-np.min(amean1))\n",
    "\n",
    "mean2  = np.matrix(lyr2_mean).transpose()\n",
    "amean2 = np.abs(mean2)\n",
    "nmean2 = (amean2-np.min(amean2))/(np.max(amean2)-np.min(amean2))\n",
    "\n",
    "mean3  = np.matrix(lyr3_mean).transpose()\n",
    "amean3 = np.abs(mean3)\n",
    "nmean3 = (amean3-np.min(amean3))/(np.max(amean3)-np.min(amean3))\n",
    "\n",
    "heatmap(\"FMT\", \"x rotation (deg)\", \"y rotation (deg)\", \"Residuals fit average normalized mean\",\n",
    "        shifts, shifts, (nmean1+nmean2+nmean3)/3)"
   ]
  }
 ],
 "metadata": {
  "kernelspec": {
   "display_name": "Python 3",
   "language": "python",
   "name": "python3"
  },
  "language_info": {
   "codemirror_mode": {
    "name": "ipython",
    "version": 3
   },
   "file_extension": ".py",
   "mimetype": "text/x-python",
   "name": "python",
   "nbconvert_exporter": "python",
   "pygments_lexer": "ipython3",
   "version": "3.8.10"
  }
 },
 "nbformat": 4,
 "nbformat_minor": 2
}
